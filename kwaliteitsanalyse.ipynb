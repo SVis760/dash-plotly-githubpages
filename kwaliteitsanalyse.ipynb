{
 "cells": [
  {
   "cell_type": "code",
   "execution_count": 2,
   "metadata": {},
   "outputs": [],
   "source": [
    "# pip install requests"
   ]
  },
  {
   "cell_type": "code",
   "execution_count": null,
   "metadata": {},
   "outputs": [],
   "source": [
    "import requests, json, pandas as pd # type: ignore"
   ]
  },
  {
   "cell_type": "code",
   "execution_count": 4,
   "metadata": {},
   "outputs": [],
   "source": [
    "def fetch_data(url):\n",
    "    response = requests.get(url)\n",
    "    response.raise_for_status()\n",
    "    return response.json()"
   ]
  },
  {
   "cell_type": "code",
   "execution_count": 5,
   "metadata": {},
   "outputs": [],
   "source": [
    "url1 = \"https://api.linkeddata.cultureelerfgoed.nl/queries/sablina-vis/topTerm/2/run?pageSize=10000\"\n",
    "url2 = \"https://api.linkeddata.cultureelerfgoed.nl/queries/sablina-vis/missingscopenote01/18/run?pageSize=10000\"\n",
    "url3 = \"https://api.linkeddata.cultureelerfgoed.nl/queries/sablina-vis/missingscopenote02/34/run?pageSize=10000\"\n",
    "url4 = \"https://api.linkeddata.cultureelerfgoed.nl/queries/sablina-vis/missingscopenote03/35/run?pageSize=10000\"\n",
    "url5 = \"https://api.linkeddata.cultureelerfgoed.nl/queries/sablina-vis/missingscopenote04/20/run?pageSize=10000\"\n",
    "url6 = \"https://api.linkeddata.cultureelerfgoed.nl/queries/sablina-vis/missingscopenote05/17/run?pageSize=10000\"\n",
    "url7 = \"https://api.linkeddata.cultureelerfgoed.nl/queries/sablina-vis/missingscopenote06/13/run?pageSize=10000\"\n",
    "url8 = \"https://api.linkeddata.cultureelerfgoed.nl/queries/sablina-vis/missingscopenote07/15/run?pageSize=10000\"\n",
    "url9 = \"https://api.linkeddata.cultureelerfgoed.nl/queries/sablina-vis/missingscopenote08/17/run?pageSize=10000\"\n",
    "url10 = \"https://api.linkeddata.cultureelerfgoed.nl/queries/sablina-vis/missingscopenote09/14/run?pageSize=10000\"\n",
    "url11 = \"https://api.linkeddata.cultureelerfgoed.nl/queries/sablina-vis/missingscopenote10/8/run?pageSize=10000\""
   ]
  },
  {
   "cell_type": "code",
   "execution_count": 6,
   "metadata": {},
   "outputs": [],
   "source": [
    "urls = [url1, url2, url3, url4, url5, url6, url7, url8, url9, url10, url11]\n",
    "\n",
    "for i, url in enumerate(urls, start=1):\n",
    "    data = fetch_data(url)\n",
    "    globals()[f\"dataLaag{i}\"] = data"
   ]
  },
  {
   "cell_type": "code",
   "execution_count": 7,
   "metadata": {},
   "outputs": [],
   "source": [
    "dfs = ['dataLaag1', 'dataLaag2', 'dataLaag3', 'dataLaag4', 'dataLaag5', 'dataLaag6', 'dataLaag7', 'dataLaag8', 'dataLaag9', 'dataLaag10', 'dataLaag11']"
   ]
  },
  {
   "cell_type": "code",
   "execution_count": 8,
   "metadata": {},
   "outputs": [],
   "source": [
    "for i, df in enumerate(dfs, start=1):\n",
    "    df = globals()[df]\n",
    "    df = pd.DataFrame(df)\n",
    "    globals()[f\"df{i}\"] = df"
   ]
  },
  {
   "cell_type": "code",
   "execution_count": 9,
   "metadata": {},
   "outputs": [],
   "source": [
    "df1.rename(columns={'topTermLabel': 'prefLabelLaag1'}, inplace=True) # type: ignore\n",
    "# df1.rename(columns={'countWithoutScopeNote': 'aantalNarrowerZonderScopeNote_df1'}, inplace=True) # type: ignore"
   ]
  },
  {
   "cell_type": "code",
   "execution_count": null,
   "metadata": {},
   "outputs": [
    {
     "name": "stdout",
     "output_type": "stream",
     "text": [
      "  prefLabelLaag1 countWithoutScopeNote     prefLabelLaag2  \\\n",
      "0       objecten                  3606  bebouwde omgeving   \n",
      "1       objecten                  3606  bebouwde omgeving   \n",
      "2       objecten                  3606  bebouwde omgeving   \n",
      "3       objecten                  3606  bebouwde omgeving   \n",
      "4       objecten                  3606  bebouwde omgeving   \n",
      "\n",
      "  mistEigenScopeNote_df2 aantalNarrowerZonderScopeNote_df2 uitklappen_df2  \\\n",
      "0                    nee                              1929          ja ->   \n",
      "1                    nee                              1929          ja ->   \n",
      "2                    nee                              1929          ja ->   \n",
      "3                    nee                              1929          ja ->   \n",
      "4                    nee                              1929          ja ->   \n",
      "\n",
      "  prefLabelLaag3 mistEigenScopeNote_df3 aantalNarrowerZonderScopeNote_df3  \\\n",
      "0  bouwelementen                    nee                              1192   \n",
      "1  bouwelementen                    nee                              1192   \n",
      "2  bouwelementen                    nee                              1192   \n",
      "3  bouwelementen                    nee                              1192   \n",
      "4  bouwelementen                    nee                              1192   \n",
      "\n",
      "  uitklappen_df3  ... aantalNarrowerZonderScopeNote_df9 uitklappen_df9  \\\n",
      "0          ja ->  ...                               NaN            NaN   \n",
      "1          ja ->  ...                               NaN            NaN   \n",
      "2          ja ->  ...                               NaN            NaN   \n",
      "3          ja ->  ...                               NaN            NaN   \n",
      "4          ja ->  ...                               NaN            NaN   \n",
      "\n",
      "  prefLabelLaag10 mistEigenScopeNote_df10 aantalNarrowerZonderScopeNote_df10  \\\n",
      "0             NaN                     NaN                                NaN   \n",
      "1             NaN                     NaN                                NaN   \n",
      "2             NaN                     NaN                                NaN   \n",
      "3             NaN                     NaN                                NaN   \n",
      "4             NaN                     NaN                                NaN   \n",
      "\n",
      "  uitklappen_df10 prefLabelLaag11 mistEigenScopeNote_df11  \\\n",
      "0             NaN             NaN                     NaN   \n",
      "1             NaN             NaN                     NaN   \n",
      "2             NaN             NaN                     NaN   \n",
      "3             NaN             NaN                     NaN   \n",
      "4             NaN             NaN                     NaN   \n",
      "\n",
      "  aantalNarrowerZonderScopeNote_df11 uitklappen_df11  \n",
      "0                                NaN             NaN  \n",
      "1                                NaN             NaN  \n",
      "2                                NaN             NaN  \n",
      "3                                NaN             NaN  \n",
      "4                                NaN             NaN  \n",
      "\n",
      "[5 rows x 42 columns]\n"
     ]
    }
   ],
   "source": [
    "dfs2 = [df1, df2, df3, df4, df5, df6, df7, df8, df9, df10, df11]\n",
    "\n",
    "# List of merge keys (one per merge step):\n",
    "merge_keys = [\n",
    "    'prefLabelLaag1',  # merge df1 and df2\n",
    "    'prefLabelLaag2',  # merge (df1+df2) and df3\n",
    "    'prefLabelLaag3',  # merge previous result and df4\n",
    "    'prefLabelLaag4',  # merge with df5\n",
    "    'prefLabelLaag5',  # merge with df6\n",
    "    'prefLabelLaag6',  # merge with df7\n",
    "    'prefLabelLaag7',  # merge with df8\n",
    "    'prefLabelLaag8',  # merge with df9\n",
    "    'prefLabelLaag9',  # merge with df10\n",
    "    'prefLabelLaag10'  # merge with df11\n",
    "]\n",
    "\n",
    "merged_df = dfs2[0]\n",
    "\n",
    "for i in range(len(merge_keys)):\n",
    "    suffix_left = f\"_df{i+1}\"\n",
    "    suffix_right = f\"_df{i+2}\"\n",
    "    \n",
    "    merged_df = pd.merge(\n",
    "        merged_df,\n",
    "        dfs2[i+1],\n",
    "        on=merge_keys[i],\n",
    "        how='outer',\n",
    "        suffixes=(suffix_left, suffix_right)\n",
    "    )\n"
   ]
  },
  {
   "cell_type": "code",
   "execution_count": 11,
   "metadata": {},
   "outputs": [],
   "source": [
    "# pip install dash"
   ]
  },
  {
   "cell_type": "code",
   "execution_count": 12,
   "metadata": {},
   "outputs": [],
   "source": [
    "# pip install plotly"
   ]
  },
  {
   "cell_type": "code",
   "execution_count": 13,
   "metadata": {},
   "outputs": [],
   "source": [
    "# pip install --upgrade nbformat\n"
   ]
  },
  {
   "cell_type": "code",
   "execution_count": 14,
   "metadata": {},
   "outputs": [],
   "source": [
    "colsAantalNarrower = ['aantalNarrowerZonderScopeNote_df2','aantalNarrowerZonderScopeNote_df3','aantalNarrowerZonderScopeNote_df4','aantalNarrowerZonderScopeNote_df5',\n",
    "                      'aantalNarrowerZonderScopeNote_df6','aantalNarrowerZonderScopeNote_df7','aantalNarrowerZonderScopeNote_df8','aantalNarrowerZonderScopeNote_df9',\n",
    "                      'aantalNarrowerZonderScopeNote_df10']"
   ]
  },
  {
   "cell_type": "code",
   "execution_count": 15,
   "metadata": {},
   "outputs": [],
   "source": [
    "merged_df[colsAantalNarrower] = merged_df[colsAantalNarrower].apply(pd.to_numeric, errors='coerce')"
   ]
  },
  {
   "cell_type": "code",
   "execution_count": 16,
   "metadata": {},
   "outputs": [],
   "source": [
    "\n",
    "paired_columns = [\n",
    "    ('mistEigenScopeNote_df2','aantalNarrowerZonderScopeNote_df2'),\n",
    "('mistEigenScopeNote_df3','aantalNarrowerZonderScopeNote_df3'),\n",
    "('mistEigenScopeNote_df4','aantalNarrowerZonderScopeNote_df4'),\n",
    "('mistEigenScopeNote_df5','aantalNarrowerZonderScopeNote_df5'),\n",
    "('mistEigenScopeNote_df6','aantalNarrowerZonderScopeNote_df6'),\n",
    "('mistEigenScopeNote_df7','aantalNarrowerZonderScopeNote_df7'),\n",
    "('mistEigenScopeNote_df8','aantalNarrowerZonderScopeNote_df8'),\n",
    "('mistEigenScopeNote_df9','aantalNarrowerZonderScopeNote_df9'),\n",
    "('mistEigenScopeNote_df10','aantalNarrowerZonderScopeNote_df10'),\n",
    "('mistEigenScopeNote_df11','aantalNarrowerZonderScopeNote_df11')]\n",
    "\n",
    "\n",
    "filtered_df = merged_df[\n",
    "    ~merged_df.apply(\n",
    "        lambda row: any(\n",
    "            (row[pair[0]] == 0 and row[pair[1]] == 'nee') or\n",
    "            (row[pair[1]] == 0 and row[pair[0]] == 'nee')\n",
    "            for pair in paired_columns\n",
    "        ),\n",
    "        axis=1\n",
    "    )\n",
    "]\n",
    "\n"
   ]
  },
  {
   "cell_type": "code",
   "execution_count": 19,
   "metadata": {},
   "outputs": [
    {
     "name": "stdout",
     "output_type": "stream",
     "text": [
      "<class 'pandas.core.frame.DataFrame'>\n",
      "RangeIndex: 47 entries, 0 to 46\n",
      "Data columns (total 5 columns):\n",
      " #   Column                         Non-Null Count  Dtype \n",
      "---  ------                         --------------  ----- \n",
      " 0   prefLabelLaag10                47 non-null     object\n",
      " 1   prefLabelLaag11                47 non-null     object\n",
      " 2   mistEigenScopeNote             47 non-null     object\n",
      " 3   aantalNarrowerZonderScopeNote  47 non-null     object\n",
      " 4   uitklappen                     47 non-null     object\n",
      "dtypes: object(5)\n",
      "memory usage: 2.0+ KB\n",
      "None\n"
     ]
    }
   ],
   "source": [
    "print(df.info())"
   ]
  }
 ],
 "metadata": {
  "kernelspec": {
   "display_name": ".conda",
   "language": "python",
   "name": "python3"
  },
  "language_info": {
   "codemirror_mode": {
    "name": "ipython",
    "version": 3
   },
   "file_extension": ".py",
   "mimetype": "text/x-python",
   "name": "python",
   "nbconvert_exporter": "python",
   "pygments_lexer": "ipython3",
   "version": "3.11.6"
  }
 },
 "nbformat": 4,
 "nbformat_minor": 2
}
